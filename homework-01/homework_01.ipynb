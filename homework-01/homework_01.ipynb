{
 "cells": [
  {
   "cell_type": "markdown",
   "id": "c5203288",
   "metadata": {},
   "source": [
    "### **ВАЖНО / IMPORTANT**\n",
    "### **Правила выполнения домашних заданий / Homework Submission Rules**\n",
    "\n",
    "Здравствуйте, коллеги!\n",
    "\n",
    "Так как наш курс является международным, все домашние задания будут доступны на двух языках: русском и английском. Пожалуйста, внимательно прочитайте правила ниже, чтобы избежать путаницы.\n",
    "\n",
    "---\n",
    "Hello colleagues!\n",
    "\n",
    "As our course is international, all homework assignments will be available in two languages: Russian and English. Please read the rules below carefully to avoid any confusion.\n",
    "\n",
    "---\n",
    "\n",
    "Вам необходимо **выбрать ОДИН языковой трек (русский или английский)** и придерживаться его на протяжении **всего курса**.\n",
    "\n",
    "---\n",
    "\n",
    "You must **choose ONE language track (Russian or English)** and stick to it for the **entire course**.\n",
    "\n",
    "---\n",
    "\n",
    "Если у вас есть какие-либо вопросы, пожалуйста, задайте их в телеграм чате.\n",
    "\n",
    "---\n",
    "\n",
    "If you have any questions, please ask them in our telegram chat.\n",
    "\n",
    "---"
   ]
  },
  {
   "cell_type": "markdown",
   "id": "b07046a8",
   "metadata": {},
   "source": [
    "### RU"
   ]
  },
  {
   "cell_type": "markdown",
   "id": "669e8972",
   "metadata": {},
   "source": [
    "1.  **Калькулятор ИМТ (Индекс Массы Тела):** Напишите функцию, которая принимает вес (в кг) и рост (в метрах) и возвращает ИМТ. Формула: `вес / (рост * рост)`."
   ]
  },
  {
   "cell_type": "code",
   "execution_count": null,
   "id": "97dc3d14",
   "metadata": {
    "vscode": {
     "languageId": "plaintext"
    }
   },
   "outputs": [],
   "source": [
    "// ваш код здесь"
   ]
  },
  {
   "cell_type": "markdown",
   "id": "ad1692d7",
   "metadata": {},
   "source": [
    "2. **Расчет стоимости с налогом:** Напишите функцию `calculate_total_price`, которая принимает цену товара и процент налога (например, 20 для 20%). Функция должна возвращать итоговую стоимость товара, включая налог."
   ]
  },
  {
   "cell_type": "code",
   "execution_count": null,
   "id": "0c04a143",
   "metadata": {
    "vscode": {
     "languageId": "plaintext"
    }
   },
   "outputs": [],
   "source": [
    "// ваш код здесь"
   ]
  },
  {
   "cell_type": "markdown",
   "id": "5bfc4239",
   "metadata": {},
   "source": [
    "3.  **Конвертер валют:** Напишите функцию, которая принимает сумму в долларах и курс обмена, а возвращает сумму в рублях."
   ]
  },
  {
   "cell_type": "code",
   "execution_count": null,
   "id": "8cd3ae27",
   "metadata": {
    "vscode": {
     "languageId": "plaintext"
    }
   },
   "outputs": [],
   "source": [
    "// ваш код здесь"
   ]
  },
  {
   "cell_type": "markdown",
   "id": "7e878e83",
   "metadata": {},
   "source": [
    "4.  **Площадь и периметр:** Создайте функцию, которая принимает длину и ширину прямоугольника и возвращает **два** значения: его площадь и периметр."
   ]
  },
  {
   "cell_type": "code",
   "execution_count": null,
   "id": "2c2a35e9",
   "metadata": {
    "vscode": {
     "languageId": "plaintext"
    }
   },
   "outputs": [],
   "source": [
    "// ваш код здесь"
   ]
  },
  {
   "cell_type": "markdown",
   "id": "d6e5305b",
   "metadata": {},
   "source": [
    "5.  **Простой процент:** Напишите функцию `calculate_deposit`, которая принимает начальную сумму вклада, годовой процент и количество лет, а возвращает итоговую сумму (без учета капитализации)."
   ]
  },
  {
   "cell_type": "code",
   "execution_count": null,
   "id": "fe476d65",
   "metadata": {
    "vscode": {
     "languageId": "plaintext"
    }
   },
   "outputs": [],
   "source": [
    "// ваш код здесь"
   ]
  },
  {
   "cell_type": "markdown",
   "id": "75402076",
   "metadata": {},
   "source": [
    "6.  **Функция приветствия:** Создайте функцию, которая принимает имя пользователя и возвращает строку приветствия, например, `\"Привет, Иван!\"`."
   ]
  },
  {
   "cell_type": "code",
   "execution_count": null,
   "id": "3c7302fb",
   "metadata": {
    "vscode": {
     "languageId": "plaintext"
    }
   },
   "outputs": [],
   "source": [
    "// ваш код здесь"
   ]
  },
  {
   "cell_type": "markdown",
   "id": "fbd3f1b4",
   "metadata": {},
   "source": [
    "7.  **Конвертер времени:** Напишите функцию, которая принимает количество часов и возвращает, сколько это будет в минутах и секундах (два значения)."
   ]
  },
  {
   "cell_type": "code",
   "execution_count": null,
   "id": "da578c6f",
   "metadata": {
    "vscode": {
     "languageId": "plaintext"
    }
   },
   "outputs": [],
   "source": [
    "// ваш код здесь"
   ]
  },
  {
   "cell_type": "markdown",
   "id": "c2d49fa3",
   "metadata": {},
   "source": [
    "8.  **Расчет гипотенузы:** Создайте функцию, принимающую два катета прямоугольного треугольника и возвращающую его гипотенузу по теореме Пифагора."
   ]
  },
  {
   "cell_type": "code",
   "execution_count": null,
   "id": "f7f5c9a4",
   "metadata": {
    "vscode": {
     "languageId": "plaintext"
    }
   },
   "outputs": [],
   "source": [
    "// ваш код здесь"
   ]
  },
  {
   "cell_type": "markdown",
   "id": "87045bbd",
   "metadata": {},
   "source": [
    "9.  **Следующее и предыдущее:** Напишите функцию, которая принимает одно целое число и возвращает два числа: предыдущее и следующее."
   ]
  },
  {
   "cell_type": "code",
   "execution_count": null,
   "id": "156131e6",
   "metadata": {
    "vscode": {
     "languageId": "plaintext"
    }
   },
   "outputs": [],
   "source": [
    "// ваш код здесь"
   ]
  },
  {
   "cell_type": "markdown",
   "id": "6597ba9c",
   "metadata": {},
   "source": [
    "10. **Стоимость поездки:** Создайте функцию, которая принимает расстояние (км), расход топлива (л/100км) и цену за литр, а возвращает общую стоимость поездки."
   ]
  },
  {
   "cell_type": "code",
   "execution_count": null,
   "id": "52b7f7e2",
   "metadata": {
    "vscode": {
     "languageId": "plaintext"
    }
   },
   "outputs": [],
   "source": [
    "// ваш код здесь"
   ]
  },
  {
   "cell_type": "markdown",
   "id": "c36f7df0",
   "metadata": {},
   "source": [
    "### EN"
   ]
  },
  {
   "cell_type": "markdown",
   "id": "be3c06b6",
   "metadata": {},
   "source": [
    "1. **BMI (Body Mass Index) Calculator:** Write a function that takes weight (in kg) and height (in meters) and returns BMI. Formula: `weight / (height * height)`."
   ]
  },
  {
   "cell_type": "code",
   "execution_count": null,
   "id": "064bce09",
   "metadata": {
    "vscode": {
     "languageId": "plaintext"
    }
   },
   "outputs": [],
   "source": [
    "def bmi_calculate(weight_kg,height_meters):\n",
    "    cal=weight_kg/(height_meters**2)\n",
    "    return cal\n",
    "print(\"bmi for 60 kg and 1.57 meters:\",bmi_calculate(60,1.57))\n",
    "print(\"bmi for 47.5 kg and 1.25 meters:\",bmi_calculate(47.5,1.25))"
   ]
  },
  {
   "cell_type": "markdown",
   "id": "d95f787e",
   "metadata": {},
   "source": [
    "2. **Calculating Cost with Tax:** Write a function `calculate_total_price` that takes the price of a product and a tax percentage (e.g. 20 for 20%). The function should return the total cost of the product including tax."
   ]
  },
  {
   "cell_type": "code",
   "execution_count": null,
   "id": "da727bd2",
   "metadata": {
    "vscode": {
     "languageId": "plaintext"
    }
   },
   "outputs": [],
   "source": [
    "def calculate_total_price(product_price,tax_percentage):\n",
    "    tax_percentage = product_price * (tax_percentage/100)\n",
    "    total_price = product_price + tax_percentage\n",
    "    return total_price\n",
    "print (\"Your costs :\",(calculate_total_price(20,20)))\n",
    "print (\"Your costs :\", (calculate_total_price(200,80)))"
   ]
  },
  {
   "cell_type": "markdown",
   "id": "acd6fcc5",
   "metadata": {},
   "source": [
    "3. **Currency converter:** Write a function that takes an amount in dollars and an exchange rate and returns the amount in rubles."
   ]
  },
  {
   "cell_type": "code",
   "execution_count": null,
   "id": "c785a34c",
   "metadata": {
    "vscode": {
     "languageId": "plaintext"
    }
   },
   "outputs": [],
   "source": [
    "def currency_exchange (dollors,exchange_rate_rubles):\n",
    "    return  dollors * exchange_rate_rubles \n",
    "print(\"convert to rubles\" ,currency_exchange(100,89))\n",
    "print(\"convert to rubles\" , currency_exchange(200,83))"
   ]
  },
  {
   "cell_type": "markdown",
   "id": "235be208",
   "metadata": {},
   "source": [
    "4. **Area and Perimeter:** Create a function that takes the length and width of a rectangle and returns **two** values: its area and perimeter."
   ]
  },
  {
   "cell_type": "code",
   "execution_count": null,
   "id": "a688d379",
   "metadata": {
    "vscode": {
     "languageId": "plaintext"
    }
   },
   "outputs": [],
   "source": [
    "def calculate_values (length,width):\n",
    "    area = length * width\n",
    "    perimerter_retangle = 2 * (length + width)\n",
    "    return area , perimerter_retangle\n",
    "area , perimeter = calculate_values (3,4)\n",
    "print(f\"area : {area} , perimeter : {perimeter}\")\n"
   ]
  },
  {
   "cell_type": "markdown",
   "id": "2b28682d",
   "metadata": {},
   "source": [
    "5. **Simple Interest:** Write a function `calculate_deposit` that takes an initial deposit amount, an annual interest rate, and a number of years, and returns the final amount (without taking into account compounding)."
   ]
  },
  {
   "cell_type": "code",
   "execution_count": null,
   "id": "db510f71",
   "metadata": {
    "vscode": {
     "languageId": "plaintext"
    }
   },
   "outputs": [],
   "source": [
    "def calculate_deposite(initial_deposite,interest_rate_percentage,year):\n",
    "    interest_rate = interest_rate_percentage /100\n",
    "    final_amount = initial_deposite* (1 + interest_rate * year)\n",
    "    return final_amount\n",
    "print(calculate_deposite(20000,5,2))"
   ]
  },
  {
   "cell_type": "markdown",
   "id": "dff4fb23",
   "metadata": {},
   "source": [
    "6. **Greeting Function:** Create a function that takes a username and returns a greeting string, such as `\"Hello, John!\"`."
   ]
  },
  {
   "cell_type": "code",
   "execution_count": null,
   "id": "2d08f97d",
   "metadata": {
    "vscode": {
     "languageId": "plaintext"
    }
   },
   "outputs": [],
   "source": [
    "def greeting(username=\" \",message=\"Hello\"):\n",
    "    print(message,username)\n",
    "greeting(\"Jhon\")\n",
    "greeting(\"Tom\")"
   ]
  },
  {
   "cell_type": "markdown",
   "id": "9de60c4f",
   "metadata": {},
   "source": [
    "7. **Time Converter:** Write a function that takes a number of hours and returns what that is in minutes and seconds (two values)."
   ]
  },
  {
   "cell_type": "code",
   "execution_count": null,
   "id": "2bce017a",
   "metadata": {
    "vscode": {
     "languageId": "plaintext"
    }
   },
   "outputs": [],
   "source": [
    "def time_converter(hour):\n",
    "    minutes = hour * 60\n",
    "    seconds = hour * 3600\n",
    "    return minutes , seconds\n",
    "min ,sec = time_converter(3)\n",
    "print(f\"minutes {min} , seconds {sec}\")\n"
   ]
  },
  {
   "cell_type": "markdown",
   "id": "951409b6",
   "metadata": {},
   "source": [
    "8. **Calculate the Hypotenuse:** Create a function that takes two legs of a right triangle and returns its hypotenuse using the Pythagorean Theorem."
   ]
  },
  {
   "cell_type": "code",
   "execution_count": null,
   "id": "8a645dc9",
   "metadata": {
    "vscode": {
     "languageId": "plaintext"
    }
   },
   "outputs": [],
   "source": [
    "def calculate_hypotenuse(a,b):\n",
    "     c = (a**2 + b **2 )**0.5\n",
    "     return c\n",
    "print(calculate_hypotenuse(3,4))"
   ]
  },
  {
   "cell_type": "markdown",
   "id": "fc693cd3",
   "metadata": {},
   "source": [
    "9. **Next and Previous:** Write a function that takes one integer and returns two numbers: previous and next."
   ]
  },
  {
   "cell_type": "code",
   "execution_count": null,
   "id": "8160eaaa",
   "metadata": {
    "vscode": {
     "languageId": "plaintext"
    }
   },
   "outputs": [],
   "source": [
    "def find_number_place(num):\n",
    "    next_numbr = num +1\n",
    "    previous_number = num -1\n",
    "    return next_numbr,previous_number\n",
    "n_num ,p_num = find_number_place(4)\n",
    "print(f\"next_number is {n_num} ,previous_number is {p_num}\")\n"
   ]
  },
  {
   "cell_type": "markdown",
   "id": "85cc100c",
   "metadata": {},
   "source": [
    "10. **Trip Cost:** Create a function that takes in distance (km), fuel consumption (l/100km) and price per liter and returns the total cost of the trip."
   ]
  },
  {
   "cell_type": "code",
   "execution_count": null,
   "id": "f462663d",
   "metadata": {
    "vscode": {
     "languageId": "plaintext"
    }
   },
   "outputs": [],
   "source": [
    "def calculate_total_cost(distance_km,fuel_consumption_per_100km,price_per_liter_dollor):\n",
    "    fuel_used = (distance_km * fuel_consumption_per_100km) / 100\n",
    "    total_price = fuel_used * price_per_liter_dollor\n",
    "    return total_price\n",
    "print(calculate_total_cost(120,8,15))"
   ]
  }
 ],
 "metadata": {
  "language_info": {
   "name": "python"
  }
 },
 "nbformat": 4,
 "nbformat_minor": 5
}
