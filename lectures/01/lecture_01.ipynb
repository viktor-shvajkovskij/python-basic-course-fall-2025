{
 "cells": [
  {
   "cell_type": "markdown",
   "id": "d6f3a28f",
   "metadata": {},
   "source": [
    "### Возможности jupyter notebook"
   ]
  },
  {
   "cell_type": "code",
   "execution_count": 1,
   "id": "c568393c",
   "metadata": {},
   "outputs": [
    {
     "data": {
      "text/plain": [
       "4"
      ]
     },
     "execution_count": 1,
     "metadata": {},
     "output_type": "execute_result"
    }
   ],
   "source": [
    "2 + 2"
   ]
  },
  {
   "cell_type": "code",
   "execution_count": 2,
   "id": "28b4a2e5",
   "metadata": {},
   "outputs": [
    {
     "name": "stdout",
     "output_type": "stream",
     "text": [
      "Hello, Masters!\n"
     ]
    }
   ],
   "source": [
    "print('Hello, Masters!')"
   ]
  },
  {
   "cell_type": "code",
   "execution_count": 3,
   "id": "becdb2ed",
   "metadata": {},
   "outputs": [
    {
     "data": {
      "text/plain": [
       "10715086071862673209484250490600018105614048117055336074437503883703510511249361224931983788156958581275946729175531468251871452856923140435984577574698574803934567774824230985421074605062371141877954182153046474983581941267398767559165543946077062914571196477686542167660429831652624386837205668069376"
      ]
     },
     "execution_count": 3,
     "metadata": {},
     "output_type": "execute_result"
    }
   ],
   "source": [
    "a, b = 2, 1000\n",
    "a ** b"
   ]
  },
  {
   "cell_type": "markdown",
   "id": "49286f72",
   "metadata": {},
   "source": [
    "### Числа. Целые числа int"
   ]
  },
  {
   "cell_type": "code",
   "execution_count": 4,
   "id": "8fda3e2c",
   "metadata": {},
   "outputs": [
    {
     "name": "stdout",
     "output_type": "stream",
     "text": [
      "6\n"
     ]
    }
   ],
   "source": [
    "x = 42\n",
    "print(x.bit_length())"
   ]
  },
  {
   "cell_type": "code",
   "execution_count": 6,
   "id": "a32ac736",
   "metadata": {
    "slideshow": {
     "slide_type": "slide"
    }
   },
   "outputs": [
    {
     "name": "stdout",
     "output_type": "stream",
     "text": [
      "a = 42, b = 5\n",
      "<class 'int'>\n"
     ]
    }
   ],
   "source": [
    "a = 42 \n",
    "b = 5\n",
    "print(\"a = {}, b = {}\".format(a, b))  # форматирование строки методом format\n",
    "print(type(a))"
   ]
  },
  {
   "cell_type": "markdown",
   "id": "f59b3ddf",
   "metadata": {},
   "source": [
    "### Числа. Числа с плавающей точкой float"
   ]
  },
  {
   "cell_type": "code",
   "execution_count": 7,
   "id": "d1d63a19",
   "metadata": {},
   "outputs": [
    {
     "name": "stdout",
     "output_type": "stream",
     "text": [
      "a / b = 8.4\n",
      "<class 'float'>\n"
     ]
    }
   ],
   "source": [
    "print(f\"a / b = {a / b}\")\n",
    "print(type(a / b))"
   ]
  },
  {
   "cell_type": "code",
   "execution_count": null,
   "id": "612b56c0",
   "metadata": {},
   "outputs": [
    {
     "name": "stdout",
     "output_type": "stream",
     "text": [
      "c = 3.1415, d = 1.772427713617681\n",
      "d = 1.77\n"
     ]
    }
   ],
   "source": [
    "c = 3.1415\n",
    "d = c ** .5\n",
    "print(f\"c = {c}, d = {d}\")\n",
    "print(f\"d = {d:.2f}\") # форматирование вывода f-строкой               "
   ]
  },
  {
   "cell_type": "markdown",
   "id": "0214f657",
   "metadata": {},
   "source": [
    "### Числа. Комплексные числа complex"
   ]
  },
  {
   "cell_type": "code",
   "execution_count": 9,
   "id": "86c81dc2",
   "metadata": {},
   "outputs": [
    {
     "name": "stdout",
     "output_type": "stream",
     "text": [
      "<class 'complex'>\n"
     ]
    }
   ],
   "source": [
    "e = complex(42, 13)\n",
    "print(type(e))"
   ]
  },
  {
   "cell_type": "code",
   "execution_count": 10,
   "id": "25df8e89",
   "metadata": {},
   "outputs": [
    {
     "name": "stdout",
     "output_type": "stream",
     "text": [
      "True\n"
     ]
    }
   ],
   "source": [
    "f = 42 + 13j\n",
    "g = 42 + 13J\n",
    "print(e == f == g)"
   ]
  },
  {
   "cell_type": "code",
   "execution_count": 11,
   "id": "ec0c64fa",
   "metadata": {},
   "outputs": [
    {
     "name": "stdout",
     "output_type": "stream",
     "text": [
      "(-1+0j)\n"
     ]
    }
   ],
   "source": [
    "imaginary_unit = 1j\n",
    "print(imaginary_unit**2)"
   ]
  },
  {
   "cell_type": "code",
   "execution_count": 12,
   "id": "690e22de",
   "metadata": {},
   "outputs": [
    {
     "name": "stdout",
     "output_type": "stream",
     "text": [
      "f.real=42.0, f.imag=13.0\n"
     ]
    }
   ],
   "source": [
    "print(f\"{f.real=}, {f.imag=}\")"
   ]
  },
  {
   "cell_type": "markdown",
   "id": "c6d1e4e6",
   "metadata": {},
   "source": [
    "### Булевый тип bool"
   ]
  },
  {
   "cell_type": "code",
   "execution_count": 13,
   "id": "792bb66f",
   "metadata": {},
   "outputs": [
    {
     "name": "stdout",
     "output_type": "stream",
     "text": [
      "<class 'bool'>\n"
     ]
    }
   ],
   "source": [
    "flag = True\n",
    "print(type(flag))"
   ]
  },
  {
   "cell_type": "code",
   "execution_count": 14,
   "id": "fd5cc042",
   "metadata": {},
   "outputs": [
    {
     "name": "stdout",
     "output_type": "stream",
     "text": [
      "True = 1\n",
      "False = 0\n",
      "True\n"
     ]
    }
   ],
   "source": [
    "print(f\"True = {int(True)}\")\n",
    "print(f\"False = {int(False)}\")\n",
    "print(isinstance(flag, int))  # True, т.е. булевые значения реализованы как целые числа"
   ]
  },
  {
   "cell_type": "code",
   "execution_count": 15,
   "id": "795e32dd",
   "metadata": {},
   "outputs": [
    {
     "name": "stdout",
     "output_type": "stream",
     "text": [
      "True\n"
     ]
    }
   ],
   "source": [
    "print(13 < 42)"
   ]
  },
  {
   "cell_type": "markdown",
   "id": "a0d35785",
   "metadata": {},
   "source": [
    "### Булевые операторы"
   ]
  },
  {
   "cell_type": "code",
   "execution_count": 16,
   "id": "aeffb47f",
   "metadata": {},
   "outputs": [
    {
     "name": "stdout",
     "output_type": "stream",
     "text": [
      "False\n",
      "False\n",
      "False\n",
      "True\n"
     ]
    }
   ],
   "source": [
    "print(False and False)\n",
    "print(False and True)\n",
    "print(True and False)\n",
    "print(True and True)"
   ]
  },
  {
   "cell_type": "code",
   "execution_count": 17,
   "id": "c6ded844",
   "metadata": {},
   "outputs": [
    {
     "name": "stdout",
     "output_type": "stream",
     "text": [
      "False\n",
      "True\n",
      "True\n",
      "True\n"
     ]
    }
   ],
   "source": [
    "print(False or False)\n",
    "print(False or True)\n",
    "print(True or False)\n",
    "print(True or True)"
   ]
  },
  {
   "cell_type": "code",
   "execution_count": 18,
   "id": "d555c251",
   "metadata": {},
   "outputs": [
    {
     "name": "stdout",
     "output_type": "stream",
     "text": [
      "True\n",
      "False\n"
     ]
    }
   ],
   "source": [
    "print(not False)\n",
    "print(not True)"
   ]
  },
  {
   "cell_type": "markdown",
   "id": "7a980ff3",
   "metadata": {},
   "source": [
    "### None"
   ]
  },
  {
   "cell_type": "code",
   "execution_count": 19,
   "id": "ef0be36a",
   "metadata": {},
   "outputs": [
    {
     "name": "stdout",
     "output_type": "stream",
     "text": [
      "<class 'NoneType'>\n"
     ]
    }
   ],
   "source": [
    "null_variable = None\n",
    "print(type(None))"
   ]
  },
  {
   "cell_type": "code",
   "execution_count": 20,
   "id": "523067fd",
   "metadata": {},
   "outputs": [
    {
     "data": {
      "text/plain": [
       "False"
      ]
     },
     "execution_count": 20,
     "metadata": {},
     "output_type": "execute_result"
    }
   ],
   "source": [
    "bool(None)"
   ]
  },
  {
   "cell_type": "markdown",
   "id": "1ee124be",
   "metadata": {},
   "source": [
    "## Функции"
   ]
  },
  {
   "cell_type": "code",
   "execution_count": 26,
   "id": "65c5d9d2",
   "metadata": {},
   "outputs": [],
   "source": [
    "def sum(a, b):\n",
    "    return a + b"
   ]
  },
  {
   "cell_type": "markdown",
   "id": "9d4adc56",
   "metadata": {},
   "source": [
    "##### Локальная область видимости"
   ]
  },
  {
   "cell_type": "code",
   "execution_count": 31,
   "id": "6244023e",
   "metadata": {},
   "outputs": [
    {
     "data": {
      "text/plain": [
       "7"
      ]
     },
     "execution_count": 31,
     "metadata": {},
     "output_type": "execute_result"
    }
   ],
   "source": [
    "def sum(a, b):\n",
    "    c = a + b\n",
    "    return c\n",
    "\n",
    "sum(2, 5)"
   ]
  },
  {
   "cell_type": "markdown",
   "id": "c7338670",
   "metadata": {},
   "source": [
    "##### Область объемлющей функции"
   ]
  },
  {
   "cell_type": "code",
   "execution_count": 32,
   "id": "16038fa4",
   "metadata": {},
   "outputs": [
    {
     "name": "stdout",
     "output_type": "stream",
     "text": [
      "1\n",
      "2\n",
      "3\n"
     ]
    }
   ],
   "source": [
    "def make_counter():\n",
    "    # Объявляем переменную count в объемлющей функции\n",
    "    count = 0\n",
    "\n",
    "    def counter():\n",
    "        # Указываем, что count находится в объемлющей функции\n",
    "        nonlocal count \n",
    "        count += 1\n",
    "        return count\n",
    "\n",
    "    return counter\n",
    "\n",
    "# Создаём счётчик\n",
    "call_counter = make_counter()\n",
    "\n",
    "# Пример использования счётчика\n",
    "print(call_counter())  # Вывод: 1\n",
    "print(call_counter())  # Вывод: 2\n",
    "print(call_counter())  # Вывод: 3"
   ]
  },
  {
   "cell_type": "markdown",
   "id": "91ea877f",
   "metadata": {},
   "source": [
    "##### Глобальная область"
   ]
  },
  {
   "cell_type": "code",
   "execution_count": null,
   "id": "c3f2a5b8",
   "metadata": {},
   "outputs": [
    {
     "name": "stdout",
     "output_type": "stream",
     "text": [
      "15\n"
     ]
    }
   ],
   "source": [
    "# Глобальная переменная, которая обозначает количество сделанных тортов\n",
    "cake_count = 10\n",
    "\n",
    "def modify_cake():\n",
    "    global cake_count\n",
    "    # Изменяем значение глобальной переменной\n",
    "    cake_count = 15\n",
    "\n",
    "modify_cake()\n",
    "print(cake_count) # Вывод: 15"
   ]
  },
  {
   "cell_type": "markdown",
   "id": "e28d07d5",
   "metadata": {},
   "source": [
    "### Аргументы функций"
   ]
  },
  {
   "cell_type": "code",
   "execution_count": 36,
   "id": "0c7a5ee0",
   "metadata": {},
   "outputs": [
    {
     "name": "stdout",
     "output_type": "stream",
     "text": [
      "Ваша книга:  Классика Война и мир\n",
      "Ваша книга:  Художественная литература Том Сойер\n"
     ]
    }
   ],
   "source": [
    "# Функция принимает два аргумента в таком порядке: секция и книга\n",
    "def search(section, book):\n",
    "    print('Ваша книга: ', section, book) \n",
    "\n",
    "# Позиционный\n",
    "# Передаём данные в том же порядке\n",
    "search('Классика', 'Война и мир')\n",
    "\n",
    "# Именованный\n",
    "search(book='Том Сойер', section='Художественная литература')"
   ]
  },
  {
   "cell_type": "code",
   "execution_count": 37,
   "id": "edac4a95",
   "metadata": {},
   "outputs": [
    {
     "name": "stdout",
     "output_type": "stream",
     "text": [
      "Привет,  Посетитель\n",
      "Привет,  Артём\n"
     ]
    }
   ],
   "source": [
    "# Необязательные аргументы (параметры по умолчанию)\n",
    "\n",
    "def greet(name = 'Посетитель', message = 'Привет, '):\n",
    "    print(message, name)\n",
    "\n",
    "# Вызов функции без указания значения по умолчанию\n",
    "greet()  # Вывод: Привет, Посетитель\n",
    "\n",
    "# Вызов функции с изменённым значением по умолчанию\n",
    "greet('Артём')  # Вывод: Привет, Артём"
   ]
  },
  {
   "cell_type": "markdown",
   "id": "21a9b79f",
   "metadata": {},
   "source": [
    "### Lambda-функции"
   ]
  },
  {
   "cell_type": "code",
   "execution_count": 38,
   "id": "db744e49",
   "metadata": {},
   "outputs": [
    {
     "name": "stdout",
     "output_type": "stream",
     "text": [
      "True\n",
      "False\n"
     ]
    }
   ],
   "source": [
    "is_even = lambda num: num % 2 == 0\n",
    "\n",
    "print(is_even(4))  # Вывод: True\n",
    "print(is_even(7))  # Вывод: False"
   ]
  },
  {
   "cell_type": "markdown",
   "id": "7d357625",
   "metadata": {},
   "source": [
    "### Динамическая типизация"
   ]
  },
  {
   "cell_type": "code",
   "execution_count": 21,
   "id": "b80caf4a",
   "metadata": {},
   "outputs": [
    {
     "name": "stdout",
     "output_type": "stream",
     "text": [
      "0 <class 'int'>\n",
      "0.0 <class 'float'>\n",
      "zero <class 'str'>\n",
      "[0, 0.0, 'zero'] <class 'list'>\n"
     ]
    }
   ],
   "source": [
    "a = 0               # a - переменная типа int\n",
    "print(a, type(a))\n",
    "a = 0.0             # теперь a - переменная типа float\n",
    "print(a, type(a))\n",
    "a = \"zero\"          # теперь a - переменная типа str\n",
    "print(a, type(a))\n",
    "a = [0, 0.0, \"zero\"] # теперь a - переменная типа list\n",
    "print(a, type(a))"
   ]
  },
  {
   "cell_type": "code",
   "execution_count": 22,
   "id": "c104f5e8",
   "metadata": {},
   "outputs": [
    {
     "name": "stdout",
     "output_type": "stream",
     "text": [
      "0 <class 'int'>\n"
     ]
    }
   ],
   "source": [
    "a = 0               # a - переменная типа int\n",
    "print(a, type(a))"
   ]
  },
  {
   "cell_type": "code",
   "execution_count": 23,
   "id": "b094b699",
   "metadata": {},
   "outputs": [
    {
     "name": "stdout",
     "output_type": "stream",
     "text": [
      "0.0 <class 'float'>\n"
     ]
    }
   ],
   "source": [
    "a = 0.0            # теперь a - переменная типа float\n",
    "print(a, type(a))"
   ]
  },
  {
   "cell_type": "code",
   "execution_count": 24,
   "id": "7d238295",
   "metadata": {},
   "outputs": [
    {
     "name": "stdout",
     "output_type": "stream",
     "text": [
      "zero <class 'str'>\n"
     ]
    }
   ],
   "source": [
    "a = \"zero\"          # теперь a - переменная типа str\n",
    "print(a, type(a))"
   ]
  },
  {
   "cell_type": "code",
   "execution_count": 25,
   "id": "54b90fa7",
   "metadata": {},
   "outputs": [
    {
     "name": "stdout",
     "output_type": "stream",
     "text": [
      "[0, 0.0, 'zero'] <class 'list'>\n"
     ]
    }
   ],
   "source": [
    "a = [0, 0.0, \"zero\"] # теперь a - переменная типа list\n",
    "print(a, type(a))"
   ]
  }
 ],
 "metadata": {
  "kernelspec": {
   "display_name": "base",
   "language": "python",
   "name": "python3"
  },
  "language_info": {
   "codemirror_mode": {
    "name": "ipython",
    "version": 3
   },
   "file_extension": ".py",
   "mimetype": "text/x-python",
   "name": "python",
   "nbconvert_exporter": "python",
   "pygments_lexer": "ipython3",
   "version": "3.12.7"
  }
 },
 "nbformat": 4,
 "nbformat_minor": 5
}
