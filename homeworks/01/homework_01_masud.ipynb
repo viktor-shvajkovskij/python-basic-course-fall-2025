{
 "cells": [
  {
   "cell_type": "markdown",
   "id": "c5203288",
   "metadata": {},
   "source": [
    "### **ВАЖНО / IMPORTANT**\n",
    "### **Правила выполнения домашних заданий / Homework Submission Rules**\n",
    "\n",
    "Здравствуйте, коллеги!\n",
    "\n",
    "Так как наш курс является международным, все домашние задания будут доступны на двух языках: русском и английском. Пожалуйста, внимательно прочитайте правила ниже, чтобы избежать путаницы.\n",
    "\n",
    "---\n",
    "Hello colleagues!\n",
    "\n",
    "As our course is international, all homework assignments will be available in two languages: Russian and English. Please read the rules below carefully to avoid any confusion.\n",
    "\n",
    "---\n",
    "\n",
    "Вам необходимо **выбрать ОДИН языковой трек (русский или английский)** и придерживаться его на протяжении **всего курса**.\n",
    "\n",
    "---\n",
    "\n",
    "You must **choose ONE language track (Russian or English)** and stick to it for the **entire course**.\n",
    "\n",
    "---\n",
    "\n",
    "Если у вас есть какие-либо вопросы, пожалуйста, задайте их в телеграм чате.\n",
    "\n",
    "---\n",
    "\n",
    "If you have any questions, please ask them in our telegram chat.\n",
    "\n",
    "---"
   ]
  },
  {
   "cell_type": "markdown",
   "id": "b07046a8",
   "metadata": {},
   "source": [
    "### RU"
   ]
  },
  {
   "cell_type": "markdown",
   "id": "669e8972",
   "metadata": {},
   "source": [
    "1.  **Калькулятор ИМТ (Индекс Массы Тела):** Напишите функцию, которая принимает вес (в кг) и рост (в метрах) и возвращает ИМТ. Формула: `вес / (рост * рост)`."
   ]
  },
  {
   "cell_type": "code",
   "execution_count": null,
   "id": "97dc3d14",
   "metadata": {},
   "outputs": [],
   "source": [
    "// ваш код здесь"
   ]
  },
  {
   "cell_type": "markdown",
   "id": "ad1692d7",
   "metadata": {},
   "source": [
    "2. **Расчет стоимости с налогом:** Напишите функцию `calculate_total_price`, которая принимает цену товара и процент налога (например, 20 для 20%). Функция должна возвращать итоговую стоимость товара, включая налог."
   ]
  },
  {
   "cell_type": "code",
   "execution_count": null,
   "id": "0c04a143",
   "metadata": {},
   "outputs": [],
   "source": [
    "// ваш код здесь"
   ]
  },
  {
   "cell_type": "markdown",
   "id": "5bfc4239",
   "metadata": {},
   "source": [
    "3.  **Конвертер валют:** Напишите функцию, которая принимает сумму в долларах и курс обмена, а возвращает сумму в рублях."
   ]
  },
  {
   "cell_type": "code",
   "execution_count": null,
   "id": "8cd3ae27",
   "metadata": {},
   "outputs": [],
   "source": [
    "// ваш код здесь"
   ]
  },
  {
   "cell_type": "markdown",
   "id": "7e878e83",
   "metadata": {},
   "source": [
    "4.  **Площадь и периметр:** Создайте функцию, которая принимает длину и ширину прямоугольника и возвращает **два** значения: его площадь и периметр."
   ]
  },
  {
   "cell_type": "code",
   "execution_count": null,
   "id": "2c2a35e9",
   "metadata": {},
   "outputs": [],
   "source": [
    "// ваш код здесь"
   ]
  },
  {
   "cell_type": "markdown",
   "id": "d6e5305b",
   "metadata": {},
   "source": [
    "5.  **Простой процент:** Напишите функцию `calculate_deposit`, которая принимает начальную сумму вклада, годовой процент и количество лет, а возвращает итоговую сумму (без учета капитализации)."
   ]
  },
  {
   "cell_type": "code",
   "execution_count": null,
   "id": "fe476d65",
   "metadata": {},
   "outputs": [],
   "source": [
    "// ваш код здесь"
   ]
  },
  {
   "cell_type": "markdown",
   "id": "75402076",
   "metadata": {},
   "source": [
    "6.  **Функция приветствия:** Создайте функцию, которая принимает имя пользователя и возвращает строку приветствия, например, `\"Привет, Иван!\"`."
   ]
  },
  {
   "cell_type": "code",
   "execution_count": null,
   "id": "3c7302fb",
   "metadata": {},
   "outputs": [],
   "source": [
    "// ваш код здесь"
   ]
  },
  {
   "cell_type": "markdown",
   "id": "fbd3f1b4",
   "metadata": {},
   "source": [
    "7.  **Конвертер времени:** Напишите функцию, которая принимает количество часов и возвращает, сколько это будет в минутах и секундах (два значения)."
   ]
  },
  {
   "cell_type": "code",
   "execution_count": null,
   "id": "da578c6f",
   "metadata": {},
   "outputs": [],
   "source": [
    "// ваш код здесь"
   ]
  },
  {
   "cell_type": "markdown",
   "id": "c2d49fa3",
   "metadata": {},
   "source": [
    "8.  **Расчет гипотенузы:** Создайте функцию, принимающую два катета прямоугольного треугольника и возвращающую его гипотенузу по теореме Пифагора."
   ]
  },
  {
   "cell_type": "code",
   "execution_count": null,
   "id": "f7f5c9a4",
   "metadata": {},
   "outputs": [],
   "source": [
    "// ваш код здесь"
   ]
  },
  {
   "cell_type": "markdown",
   "id": "87045bbd",
   "metadata": {},
   "source": [
    "9.  **Следующее и предыдущее:** Напишите функцию, которая принимает одно целое число и возвращает два числа: предыдущее и следующее."
   ]
  },
  {
   "cell_type": "code",
   "execution_count": null,
   "id": "156131e6",
   "metadata": {},
   "outputs": [],
   "source": [
    "// ваш код здесь"
   ]
  },
  {
   "cell_type": "markdown",
   "id": "6597ba9c",
   "metadata": {},
   "source": [
    "10. **Стоимость поездки:** Создайте функцию, которая принимает расстояние (км), расход топлива (л/100км) и цену за литр, а возвращает общую стоимость поездки."
   ]
  },
  {
   "cell_type": "code",
   "execution_count": null,
   "id": "52b7f7e2",
   "metadata": {},
   "outputs": [],
   "source": [
    "// ваш код здесь"
   ]
  },
  {
   "cell_type": "markdown",
   "id": "c36f7df0",
   "metadata": {},
   "source": [
    "### EN"
   ]
  },
  {
   "cell_type": "markdown",
   "id": "be3c06b6",
   "metadata": {},
   "source": [
    "1. **BMI (Body Mass Index) Calculator:** Write a function that takes weight (in kg) and height (in meters) and returns BMI. Formula: `weight / (height * height)`."
   ]
  },
  {
   "cell_type": "code",
   "execution_count": 3,
   "id": "93fe6ab2",
   "metadata": {},
   "outputs": [
    {
     "name": "stdout",
     "output_type": "stream",
     "text": [
      "All tests passed!\n"
     ]
    }
   ],
   "source": [
    "def bmi_calc(weight, height):\n",
    "    bmi = weight / (height ** 2)\n",
    "    return round(bmi, 2)\n",
    "\n",
    "\n",
    "# test \n",
    "def test_bmi_calc():\n",
    "    #  cases (Normal)\n",
    "    assert bmi_calc(70, 1.75) == 22.86, \"Failed on normal BMI\"\n",
    "    assert bmi_calc(50, 1.60) == 19.53, \"Failed on underweight BMI\"\n",
    "    assert bmi_calc(90, 1.80) == 27.78, \"Failed on overweight BMI\"\n",
    "    \n",
    "    # cases (Edge)\n",
    "    assert bmi_calc(0, 1.75) == 0.0, \"Failed on zero weight\"\n",
    "    \n",
    "    try:\n",
    "        bmi_calc(70, 0)  \n",
    "    except ZeroDivisionError:\n",
    "        pass  \n",
    "    else:\n",
    "        raise AssertionError(\"Failed to handle zero height\")\n",
    "\n",
    "    print(\"All tests passed!\")\n",
    "\n",
    "\n",
    "test_bmi_calc()\n"
   ]
  },
  {
   "cell_type": "markdown",
   "id": "d95f787e",
   "metadata": {},
   "source": [
    "2. **Calculating Cost with Tax:** Write a function `calculate_total_price` that takes the price of a product and a tax percentage (e.g. 20 for 20%). The function should return the total cost of the product including tax."
   ]
  },
  {
   "cell_type": "code",
   "execution_count": 5,
   "id": "da727bd2",
   "metadata": {},
   "outputs": [
    {
     "name": "stdout",
     "output_type": "stream",
     "text": [
      "All tests passed!\n"
     ]
    }
   ],
   "source": [
    "def calc_total_price(price, tax_percent):\n",
    "    total = price + (price * tax_percent / 100)\n",
    "    return round(total, 2)\n",
    "\n",
    "\n",
    "def test_calc_total_price():\n",
    "    assert calc_total_price(100, 20) == 120.0, \"Failed on 100 with 20%\"\n",
    "    assert calc_total_price(50, 10) == 55.0, \"Failed on 50 with 10%\"\n",
    "    assert calc_total_price(200, 0) == 200.0, \"Failed on 200 with 0%\"\n",
    "    assert calc_total_price(99.99, 15) == 114.99, \"Failed on 99.99 with 15%\"\n",
    "    \n",
    "    print(\"All tests passed!\")\n",
    "\n",
    "\n",
    "test_calc_total_price()\n",
    "\n"
   ]
  },
  {
   "cell_type": "markdown",
   "id": "acd6fcc5",
   "metadata": {},
   "source": [
    "3. **Currency converter:** Write a function that takes an amount in dollars and an exchange rate and returns the amount in rubles."
   ]
  },
  {
   "cell_type": "code",
   "execution_count": 21,
   "id": "c785a34c",
   "metadata": {},
   "outputs": [
    {
     "name": "stdout",
     "output_type": "stream",
     "text": [
      "All tests passed!\n"
     ]
    }
   ],
   "source": [
    "def currency_converter(amount_usd, exchange_rate):\n",
    "    rubles = amount_usd * exchange_rate\n",
    "    return round(rubles, 2)\n",
    "\n",
    "def test_currency_converter():\n",
    "    # Normal amounts\n",
    "    assert currency_converter(5, 90) == 450.0, \"Failed on 5 USD = 90 RUB\"\n",
    "    \n",
    "    # Decimals\n",
    "    assert currency_converter(12.34, 91.27) == 1126.27, \"Failed on 12.34 USD = 91.27 RUB\"\n",
    "    assert currency_converter(0.99, 100.5) == 99.5, \"Failed on 0.99 USD = 100.5 RUB\"\n",
    "    \n",
    "    # Large amounts\n",
    "    assert currency_converter(10000, 80) == 800000.0, \"Failed on 10000 USD = 80 RUB\"\n",
    "    \n",
    "    # Edge cases\n",
    "    assert currency_converter(0, 100) == 0.0, \"Failed on 0 USD\"\n",
    "    assert currency_converter(50, 0) == 0.0, \"Failed on 0 exchange rate\"\n",
    "    \n",
    "    print(\"All tests passed!\")\n",
    "\n",
    "# Run the test\n",
    "test_currency_converter()\n"
   ]
  },
  {
   "cell_type": "markdown",
   "id": "235be208",
   "metadata": {},
   "source": [
    "4. **Area and Perimeter:** Create a function that takes the length and width of a rectangle and returns **two** values: its area and perimeter."
   ]
  },
  {
   "cell_type": "code",
   "execution_count": 20,
   "id": "a688d379",
   "metadata": {},
   "outputs": [
    {
     "name": "stdout",
     "output_type": "stream",
     "text": [
      " All tests passed!\n"
     ]
    }
   ],
   "source": [
    "def rectangle_properties(length, width):\n",
    "\n",
    "    area = length * width\n",
    "    perimeter = 2 * (length + width)\n",
    "    return area, perimeter\n",
    "\n",
    "\n",
    "def test_rectangle_properties():\n",
    "    # Normal rectangles\n",
    "    assert rectangle_properties(8, 4) == (32, 24), \"Failed on 8x4 rectangle\"\n",
    "    \n",
    "    # Very small values\n",
    "    assert rectangle_properties(0.5, 0.2) == (0.1, 1.4), \"Failed on 0.5x0.2 rectangle\"\n",
    "    \n",
    "    # Very large values\n",
    "    assert rectangle_properties(1000, 2000) == (2000000, 6000), \"Failed on 1000x2000 rectangle\"\n",
    "    \n",
    "    # Length = 0 (edge case)\n",
    "    assert rectangle_properties(0, 10) == (0, 20), \"Failed on 0x10 rectangle\"\n",
    "    \n",
    "    # Width = 0 (edge case)\n",
    "    assert rectangle_properties(7, 0) == (0, 14), \"Failed on 7x0 rectangle\"\n",
    "    \n",
    "    print(\" All tests passed!\")\n",
    "\n",
    "test_rectangle_properties()\n",
    "\n"
   ]
  },
  {
   "cell_type": "markdown",
   "id": "2b28682d",
   "metadata": {},
   "source": [
    "5. **Simple Interest:** Write a function `calculate_deposit` that takes an initial deposit amount, an annual interest rate, and a number of years, and returns the final amount (without taking into account compounding)."
   ]
  },
  {
   "cell_type": "code",
   "execution_count": 29,
   "id": "db510f71",
   "metadata": {},
   "outputs": [
    {
     "name": "stdout",
     "output_type": "stream",
     "text": [
      "All tests passed!\n"
     ]
    }
   ],
   "source": [
    "\n",
    "from decimal import Decimal, ROUND_HALF_UP\n",
    "\n",
    "\n",
    "def calculate_deposit(principal, annual_rate, years):\n",
    "    final_amount = principal * (1 + annual_rate / 100) ** years\n",
    "    return round(final_amount, 2)\n",
    "\n",
    "def test_calculate_deposit():\n",
    "    # Normal cases\n",
    "    assert calculate_deposit(1000, 5, 3) == 1157.63, \"Failed on 1000 at 5% for 3 years\"  \n",
    "    assert calculate_deposit(500, 10, 2) == 605.0, \"Failed on 500 at 10% for 2 years\"     \n",
    "    # Zero interest\n",
    "    assert calculate_deposit(1000, 0, 5) == 1000.0, \"Failed on 0% interest\"\n",
    "    # Zero years\n",
    "    assert calculate_deposit(1000, 5, 0) == 1000.0, \"Failed on 0 years\"\n",
    "    # Small decimal values\n",
    "    assert calculate_deposit(1234.56, 4.5, 2) == 1348.17, \"Failed on decimal values\"     \n",
    "    print(\"All tests passed!\")\n",
    "\n",
    "\n",
    "test_calculate_deposit()\n"
   ]
  },
  {
   "cell_type": "markdown",
   "id": "dff4fb23",
   "metadata": {},
   "source": [
    "6. **Greeting Function:** Create a function that takes a username and returns a greeting string, such as `\"Hello, John!\"`."
   ]
  },
  {
   "cell_type": "code",
   "execution_count": 30,
   "id": "2d08f97d",
   "metadata": {},
   "outputs": [
    {
     "name": "stdout",
     "output_type": "stream",
     "text": [
      "All tests passed!\n"
     ]
    }
   ],
   "source": [
    "def greet_user(username):\n",
    "    return f\"Hello, {username}!\"\n",
    "\n",
    "\n",
    "def test_greet_user():\n",
    "    # Test with a standard username\n",
    "    assert greet_user(\"John\") == \"Hello, John!\", \"Failed on standard username\"\n",
    "    \n",
    "    # Test with a different username\n",
    "    assert greet_user(\"Alice\") == \"Hello, Alice!\", \"Failed on different username\"\n",
    "    \n",
    "    # Test with an empty string\n",
    "    assert greet_user(\"\") == \"Hello, !\", \"Failed on empty username\"\n",
    "    \n",
    "    # Test with a username containing spaces\n",
    "    assert greet_user(\"Mary Jane\") == \"Hello, Mary Jane!\", \"Failed on username with spaces\"\n",
    "    \n",
    "    # Test with special characters\n",
    "    assert greet_user(\"User#123\") == \"Hello, User#123!\", \"Failed on username with special characters\"\n",
    "    \n",
    "    # Test with numbers in username\n",
    "    assert greet_user(\"Player1\") == \"Hello, Player1!\", \"Failed on username with numbers\"\n",
    "    \n",
    "    print(\"All tests passed!\")\n",
    "\n",
    "\n",
    "test_greet_user()"
   ]
  },
  {
   "cell_type": "markdown",
   "id": "9de60c4f",
   "metadata": {},
   "source": [
    "7. **Time Converter:** Write a function that takes a number of hours and returns what that is in minutes and seconds (two values)."
   ]
  },
  {
   "cell_type": "code",
   "execution_count": 31,
   "id": "2bce017a",
   "metadata": {},
   "outputs": [
    {
     "name": "stdout",
     "output_type": "stream",
     "text": [
      "All tests passed!\n"
     ]
    }
   ],
   "source": [
    "def convert_hours_to_minutes_seconds(hours):\n",
    "    minutes = hours * 60\n",
    "    seconds = hours * 3600\n",
    "    return round(minutes, 2), round(seconds, 2)\n",
    "\n",
    "\n",
    "def test_convert_hours_to_minutes_seconds():\n",
    "    # Test with whole hours\n",
    "    assert convert_hours_to_minutes_seconds(1) == (60.0, 3600.0), \"Failed on 1 hour\"\n",
    "    \n",
    "    # Test with decimal hours\n",
    "    assert convert_hours_to_minutes_seconds(0.5) == (30.0, 1800.0), \"Failed on 0.5 hours\"\n",
    "    \n",
    "    # Test with zero hours\n",
    "    assert convert_hours_to_minutes_seconds(0) == (0.0, 0.0), \"Failed on 0 hours\"\n",
    "    \n",
    "    # Test with negative hours\n",
    "    assert convert_hours_to_minutes_seconds(-1) == (-60.0, -3600.0), \"Failed on negative hours\"\n",
    "    \n",
    "    # Test with small decimal hours\n",
    "    assert convert_hours_to_minutes_seconds(0.01666667) == (1.0, 60.0), \"Failed on 1 minute equivalent\"\n",
    "    \n",
    "    # Test with larger hours\n",
    "    assert convert_hours_to_minutes_seconds(2.25) == (135.0, 8100.0), \"Failed on 2.25 hours\"\n",
    "    \n",
    "    print(\"All tests passed!\")\n",
    "\n",
    "\n",
    "\n",
    "test_convert_hours_to_minutes_seconds()"
   ]
  },
  {
   "cell_type": "markdown",
   "id": "951409b6",
   "metadata": {},
   "source": [
    "8. **Calculate the Hypotenuse:** Create a function that takes two legs of a right triangle and returns its hypotenuse using the Pythagorean Theorem."
   ]
  },
  {
   "cell_type": "code",
   "execution_count": 32,
   "id": "8a645dc9",
   "metadata": {},
   "outputs": [
    {
     "name": "stdout",
     "output_type": "stream",
     "text": [
      "All tests passed!\n"
     ]
    }
   ],
   "source": [
    "import math\n",
    "\n",
    "def calculate_hypotenuse(leg1, leg2):\n",
    "    #  c = sqrt(a^2 + b^2)\n",
    "    hypotenuse = math.sqrt(leg1**2 + leg2**2)\n",
    "    return round(hypotenuse, 2)\n",
    "\n",
    "\n",
    "def test_calculate_hypotenuse():\n",
    "    # Test with standard integer inputs (3-4-5 triangle)\n",
    "    assert calculate_hypotenuse(3, 4) == 5.0, \"Failed on 3-4-5 triangle\"\n",
    "    \n",
    "    # Test with decimal inputs\n",
    "    assert calculate_hypotenuse(2.5, 6.0) == 6.5, \"Failed on decimal inputs\"\n",
    "    \n",
    "    # Test with one leg as zero\n",
    "    assert calculate_hypotenuse(5, 0) == 5.0, \"Failed on one leg zero\"\n",
    "    \n",
    "    # Test with both legs as zero\n",
    "    assert calculate_hypotenuse(0, 0) == 0.0, \"Failed on both legs zero\"\n",
    "    \n",
    "    # Test with larger values\n",
    "    assert calculate_hypotenuse(12, 16) == 20.0, \"Failed on 12-16-20 triangle\"\n",
    "    \n",
    "    # Test with small decimal values\n",
    "    assert calculate_hypotenuse(0.3, 0.4) == 0.5, \"Failed on small decimal inputs\"\n",
    "    \n",
    "    print(\"All tests passed!\")\n",
    "\n",
    "\n",
    "\n",
    "test_calculate_hypotenuse()"
   ]
  },
  {
   "cell_type": "markdown",
   "id": "fc693cd3",
   "metadata": {},
   "source": [
    "9. **Next and Previous:** Write a function that takes one integer and returns two numbers: previous and next."
   ]
  },
  {
   "cell_type": "code",
   "execution_count": 33,
   "id": "8160eaaa",
   "metadata": {},
   "outputs": [
    {
     "name": "stdout",
     "output_type": "stream",
     "text": [
      "All tests passed!\n"
     ]
    }
   ],
   "source": [
    "def get_next_previous(number):\n",
    "    previous = number - 1\n",
    "    next_num = number + 1\n",
    "    return previous, next_num\n",
    "\n",
    "\n",
    "def test_get_next_previous():\n",
    "    # Test with positive number\n",
    "    assert get_next_previous(5) == (4, 6), \"Failed on positive number\"\n",
    "    \n",
    "    # Test with negative number\n",
    "    assert get_next_previous(-3) == (-4, -2), \"Failed on negative number\"\n",
    "    \n",
    "    # Test with zero\n",
    "    assert get_next_previous(0) == (-1, 1), \"Failed on zero\"\n",
    "    \n",
    "    # Test with large positive number\n",
    "    assert get_next_previous(1000) == (999, 1001), \"Failed on large positive number\"\n",
    "    \n",
    "    # Test with large negative number\n",
    "    assert get_next_previous(-1000) == (-1001, -999), \"Failed on large negative number\"\n",
    "    \n",
    "    # Test with maximum 32-bit integer (edge case)\n",
    "    assert get_next_previous(2147483647) == (2147483646, 2147483648), \"Failed on max int\"\n",
    "    \n",
    "    # Test with minimum 32-bit integer (edge case)\n",
    "    assert get_next_previous(-2147483648) == (-2147483649, -2147483647), \"Failed on min int\"\n",
    "    \n",
    "    print(\"All tests passed!\")\n",
    "\n",
    "\n",
    "test_get_next_previous()"
   ]
  },
  {
   "cell_type": "markdown",
   "id": "85cc100c",
   "metadata": {},
   "source": [
    "10. **Trip Cost:** Create a function that takes in distance (km), fuel consumption (l/100km) and price per liter and returns the total cost of the trip."
   ]
  },
  {
   "cell_type": "code",
   "execution_count": 34,
   "id": "f462663d",
   "metadata": {},
   "outputs": [
    {
     "name": "stdout",
     "output_type": "stream",
     "text": [
      "All tests passed!\n"
     ]
    }
   ],
   "source": [
    "def calculate_trip_cost(distance_km, fuel_consumption_l_per_100km, price_per_liter):\n",
    "    fuel_needed = (distance_km / 100) * fuel_consumption_l_per_100km\n",
    "    total_cost = fuel_needed * price_per_liter\n",
    "    return round(total_cost, 2)\n",
    "\n",
    "\n",
    "def test_calculate_trip_cost():\n",
    "    # Test with standard inputs\n",
    "    assert calculate_trip_cost(100, 8, 1.5) == 12.0, \"Failed on 100km, 8L/100km, $1.5/L\"\n",
    "    \n",
    "    # Test with decimal inputs\n",
    "    assert calculate_trip_cost(50.5, 6.5, 1.75) == 5.74, \"Failed on decimal inputs\"\n",
    "    \n",
    "    # Test with zero distance\n",
    "    assert calculate_trip_cost(0, 7, 2.0) == 0.0, \"Failed on zero distance\"\n",
    "    \n",
    "    # Test with high consumption and price\n",
    "    assert calculate_trip_cost(200, 10, 2.5) == 50.0, \"Failed on high consumption and price\"\n",
    "    \n",
    "    # Test with small values\n",
    "    assert calculate_trip_cost(1, 5, 1.2) == 0.06, \"Failed on small distance\"\n",
    "    \n",
    "    # Test with large distance\n",
    "    assert calculate_trip_cost(1000, 7.5, 1.8) == 135.0, \"Failed on large distance\"\n",
    "    \n",
    "    print(\"All tests passed!\")\n",
    "\n",
    "\n",
    "\n",
    "test_calculate_trip_cost()"
   ]
  }
 ],
 "metadata": {
  "kernelspec": {
   "display_name": "base",
   "language": "python",
   "name": "python3"
  },
  "language_info": {
   "codemirror_mode": {
    "name": "ipython",
    "version": 3
   },
   "file_extension": ".py",
   "mimetype": "text/x-python",
   "name": "python",
   "nbconvert_exporter": "python",
   "pygments_lexer": "ipython3",
   "version": "3.12.1"
  }
 },
 "nbformat": 4,
 "nbformat_minor": 5
}
